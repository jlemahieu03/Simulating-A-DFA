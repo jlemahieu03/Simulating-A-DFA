{
 "cells": [
  {
   "cell_type": "markdown",
   "id": "93cf788541ae8943",
   "metadata": {
    "collapsed": false
   },
   "source": [
    "# CS2250 Computability and Complexity\n",
    "## 2024 Spring\n",
    "\n",
    "\n",
    "Starter code and examples by Clayton Cafiero <cbcafier@uvm.edu>, 2024-01-15.\n",
    "\n",
    "Notice that we deviate from PEP 8 to get closer to Sipser's notation.\n",
    "\n",
    "### DFA class\n",
    "Your assignment is to define and test a DFA class, which, upon receiving the definition of a DFA (as passed to its constructor), instantiates a new DFA, that can then be used to decide whether strings are in its language or not.\n",
    "\n",
    "Once you have your DFA class defined, you'll define, instantiate, and test two DFAs. Two other DFAs are provided by way of example.\n",
    "\n",
    "#### Defining the class\n",
    "The class should be named \"Dfa\". The class should implement two methods: a constructor, `__init__()`, and a method to decide a given input string. \n",
    "\n",
    "##### The `__init__()` method\n",
    "\n",
    "If you haven't done OOP in Python before, `__init__()` is the name of the default constructor for a class. The arguments to the constructor should be (in this order):\n",
    "\n",
    "- a set representing the states of the DFA,\n",
    "- the alphabet (also a set),\n",
    "- the transition function, represented with a dictionary,\n",
    "- the start state, and\n",
    "- the set of accept states.\n",
    "\n",
    "State labels and alphabet symbols should be strings.\n",
    "\n",
    "The constructor should raise an exception on any invalid or ill-formed input (hint: use `assert`, `isinstance()`, and `all()` as appropriate; a few lines are given to you to get you started.\n",
    "\n",
    "Python `__init__()` constructors do not require a return (this is implicit).\n",
    "\n",
    "##### The `recognize()` method\n",
    "\n",
    "The other method should be called `recognize()` and it should take a single argument, a string. This should return a Boolean: `True` if the string is in the language of the machine and `False` otherwise. That's it!\n",
    "\n",
    "This class definition needn't be long, but it should be readable. My solution has 28 lines of code, most of which is just validating inputs before instantiating a DFA---the code that recognizes (or rejects) a given input string is only _five lines long_. These are simple machines!\n",
    " \n",
    "These metrics are given not as hard and fast expectations for your code, but are to indicate that _your solution needn't be long_. Keep it straightforward and concise, but don't play any code golf --- this isn't a contest, and _clarity is important_."
   ]
  },
  {
   "cell_type": "markdown",
   "id": "b143b963-9c6a-4d8e-bc8b-19048db269fb",
   "metadata": {},
   "source": [
    "### COMPLETE THE CLASS DEFINITION and `recognize` METHOD BELOW"
   ]
  },
  {
   "cell_type": "code",
   "execution_count": 4,
   "id": "4424c251a7bee903",
   "metadata": {
    "ExecuteTime": {
     "end_time": "2024-02-07T20:08:01.631575600Z",
     "start_time": "2024-02-07T20:08:01.541940700Z"
    }
   },
   "outputs": [],
   "source": [
    "class Dfa:\n",
    "\n",
    "    def __init__(self, Q_, Sigma_, delta_, q_0_, F_):\n",
    "        \"\"\"Notice that we deviate from PEP 8 so that we get closer to Sipser's notation. \"\"\"\n",
    "        assert isinstance(Q_, set) #Q must be a set\"\n",
    "        assert len(Q_) >= 1 #Every DFA has to have at least one state.\n",
    "        assert all(isinstance(element, str) for element in Q_)#Each element of Q must be a string.\n",
    "        # Complete validation of arguments here...\n",
    "        assert isinstance(Sigma_, set) #Sigma must be a set\n",
    "        assert len(Sigma_) >= 1 #DFA must have at least one element in alphabet\n",
    "        assert all(isinstance(element, str) for element in Sigma_) #each element has to be a character in sigma\n",
    "        assert isinstance(delta_, dict) #making sure\n",
    "        assert all(element in delta_ for element in Q_)#making sure transition function is a dictionary\n",
    "        assert all(str in delta_[element] for str in Sigma_ for element in Q_) #making sure all values are in the alphabet\n",
    "        assert q_0_ in Q_ #making sure start state is in Q\n",
    "        assert isinstance(F_, set) #making sure F_ is a set\n",
    "        assert all(element in Q_ for element in F_) #making sure all elements in F are in Q\n",
    "\n",
    "        # Everything looks OK...\n",
    "        self.Q = Q_\n",
    "        self.Sigma = Sigma_\n",
    "        self.delta = delta_\n",
    "        self.q_0 = q_0_\n",
    "        self.F = F_\n",
    "\n",
    "    def recognize(self, w_):\n",
    "        \"\"\"Determine if w_ is in the language. Return a Boolean, indicating whether \n",
    "        w_ is in the language of this machine. \"\"\"\n",
    "        # Implement this function...\n",
    "        current_state = q_0 #setting current state as start state\n",
    "        for char in w_: #looping through every character in string\n",
    "            current_state = delta[current_state][char]\n",
    "        for element in F:\n",
    "            if current_state == element:\n",
    "                return True\n",
    "        return False"
   ]
  },
  {
   "cell_type": "markdown",
   "id": "c49336c9-afc8-4bbd-97f5-8c49e20e2722",
   "metadata": {},
   "source": [
    "#### This function is called to run tests on a given DFA"
   ]
  },
  {
   "cell_type": "code",
   "execution_count": 5,
   "id": "a2e34f8def4499e6",
   "metadata": {
    "collapsed": false,
    "ExecuteTime": {
     "end_time": "2024-02-07T20:08:05.672765100Z",
     "start_time": "2024-02-07T20:08:05.443961600Z"
    }
   },
   "outputs": [],
   "source": [
    "def run_tests(M_, tests_):\n",
    "    \"\"\"Do not modify this function. This runs tests for a given DFA instance. We're not using \n",
    "    Python's unittest framework because this isn't a course on software engineering and because \n",
    "    we wish to avoid complexity of parameterization of tests. Ag\"\"\"\n",
    "    for w, expected in tests_:\n",
    "        actual = M_.recognize(w)\n",
    "        print(f\"Reported: {actual}. {'Correct!' if actual == expected else 'Incorrect!'} \"\n",
    "              f\"'{w}' is {'' if expected else 'not '}in the language of M.\")\n"
   ]
  },
  {
   "attachments": {
    "bbaeb4b1-9da8-4474-84c5-5a537e33b498.png": {
     "image/png": "[encoded data removed]"
    }
   },
   "cell_type": "markdown",
   "id": "285361c1ee9e3b7",
   "metadata": {
    "collapsed": false
   },
   "source": [
    "### Example 1: DFA to recognize all strings with an even number of 0s\n",
    "\n",
    "There's no need to modify anything here. This is an example to demonstrate how we can define a DFA and test.\n",
    "\n",
    "$L_1 = \\{w \\: | \\: w \\text{ contains an even number of \\texttt{0}s}\\}$\n",
    "\n",
    "Here's a diagram:\n",
    "\n",
    "![M_1.png](attachment:bbaeb4b1-9da8-4474-84c5-5a537e33b498.png)"
   ]
  },
  {
   "cell_type": "code",
   "execution_count": 8,
   "id": "246ed622bfb893e8",
   "metadata": {
    "collapsed": false,
    "ExecuteTime": {
     "end_time": "2024-02-07T20:09:09.170722Z",
     "start_time": "2024-02-07T20:09:09.114326200Z"
    }
   },
   "outputs": [],
   "source": [
    "Q = {'A', 'B'}\n",
    "Sigma = {'0', '1'}\n",
    "delta = {'A': {'0': 'B',\n",
    "               '1': 'A'},\n",
    "         'B': {'0': 'A',\n",
    "               '1': 'B'}}\n",
    "q_0 = 'A'\n",
    "F = {'A'}\n",
    "M = Dfa(Q, Sigma, delta, q_0, F)  # instantiate the DFA"
   ]
  },
  {
   "cell_type": "markdown",
   "id": "fb3a5e1ca4b2dcc2",
   "metadata": {
    "collapsed": false
   },
   "source": [
    "#### Tests for DFA recognizing bitstrings with even number of 0s"
   ]
  },
  {
   "cell_type": "code",
   "execution_count": 9,
   "id": "807182eb6c576471",
   "metadata": {
    "collapsed": false,
    "ExecuteTime": {
     "end_time": "2024-02-07T20:09:42.615127700Z",
     "start_time": "2024-02-07T20:09:42.450120100Z"
    }
   },
   "outputs": [
    {
     "name": "stdout",
     "output_type": "stream",
     "text": [
      "\n",
      "L_1 = {w | w contains an even number of 0s}\n",
      "Reported: True. Correct! '' is in the language of M.\n",
      "Reported: False. Correct! '0' is not in the language of M.\n",
      "Reported: True. Correct! '00' is in the language of M.\n",
      "Reported: True. Correct! '100' is in the language of M.\n",
      "Reported: False. Correct! '101' is not in the language of M.\n",
      "Reported: True. Correct! '01010101' is in the language of M.\n",
      "Reported: False. Correct! '010101010' is not in the language of M.\n"
     ]
    }
   ],
   "source": [
    "tests = [('', True),    # Remember: 0 is even!\n",
    "         ('0', False),\n",
    "         ('00', True),\n",
    "         ('100', True),\n",
    "         ('101', False),\n",
    "         ('01010101', True),\n",
    "         ('010101010', False)]\n",
    "\n",
    "print()\n",
    "print(\"L_1 = {w | w contains an even number of 0s}\")\n",
    "run_tests(M, tests)"
   ]
  },
  {
   "cell_type": "code",
   "execution_count": null,
   "id": "e7ccba1028d92757",
   "metadata": {
    "collapsed": false,
    "ExecuteTime": {
     "start_time": "2024-02-04T23:52:40.635828100Z"
    }
   },
   "outputs": [],
   "source": []
  },
  {
   "attachments": {
    "44216aac-7e40-4e88-84c7-2b38c97de6c0.png": {
     "image/png": "[encoded data removed]"
    }
   },
   "cell_type": "markdown",
   "id": "157c9d43513158af",
   "metadata": {
    "collapsed": false
   },
   "source": [
    "### Example 2: DFA to recognize all bitstrings containing 101 as substring.\n",
    "\n",
    "$L_2 = \\{w \\: | \\: w \\text{ contains \\texttt{101} as a substring}\\}$\n",
    "\n",
    "Here's a diagram:\n",
    "\n",
    "![M_2.png](attachment:44216aac-7e40-4e88-84c7-2b38c97de6c0.png)"
   ]
  },
  {
   "cell_type": "code",
   "execution_count": 10,
   "id": "ecc82add5ba4cd1a",
   "metadata": {
    "collapsed": false,
    "ExecuteTime": {
     "end_time": "2024-02-07T20:09:48.852475800Z",
     "start_time": "2024-02-07T20:09:48.709476600Z"
    }
   },
   "outputs": [],
   "source": [
    "Q = {'A', 'B', 'C', 'D'}\n",
    "Sigma = {'0', '1'}\n",
    "delta = {'A': {'0': 'A',\n",
    "               '1': 'B'},\n",
    "         'B': {'0': 'C',\n",
    "               '1': 'A'},\n",
    "         'C': {'0': 'A',\n",
    "               '1': 'D'},\n",
    "         'D': {'0': 'D',\n",
    "               '1': 'D'}}\n",
    "q_0 = 'A'\n",
    "F = {'D'}\n",
    "M = Dfa(Q, Sigma, delta, q_0, F)  # instantiate the DFA"
   ]
  },
  {
   "cell_type": "markdown",
   "id": "8ea79b96a2fb542f",
   "metadata": {
    "collapsed": false
   },
   "source": []
  },
  {
   "cell_type": "markdown",
   "id": "31907cf3be441535",
   "metadata": {
    "collapsed": false
   },
   "source": [
    "#### Tests for DFA recognizing bitstrings with 101 as substring."
   ]
  },
  {
   "cell_type": "code",
   "execution_count": 11,
   "id": "36ed37c79c214c6d",
   "metadata": {
    "collapsed": false,
    "ExecuteTime": {
     "end_time": "2024-02-07T20:09:52.930449500Z",
     "start_time": "2024-02-07T20:09:52.695703300Z"
    }
   },
   "outputs": [
    {
     "name": "stdout",
     "output_type": "stream",
     "text": [
      "\n",
      "L_2 = {w | w contains 101 as substring}\n",
      "Reported: False. Correct! '' is not in the language of M.\n",
      "Reported: False. Correct! '0' is not in the language of M.\n",
      "Reported: False. Correct! '00' is not in the language of M.\n",
      "Reported: False. Correct! '100' is not in the language of M.\n",
      "Reported: True. Correct! '101' is in the language of M.\n",
      "Reported: True. Correct! '01010101' is in the language of M.\n",
      "Reported: True. Correct! '000101000' is in the language of M.\n",
      "Reported: True. Correct! '1000101' is in the language of M.\n",
      "Reported: False. Correct! '1001001' is not in the language of M.\n"
     ]
    }
   ],
   "source": [
    "tests = [('', False),\n",
    "         ('0', False),\n",
    "         ('00', False),\n",
    "         ('100', False),\n",
    "         ('101', True),\n",
    "         ('01010101', True),\n",
    "         ('000101000', True),\n",
    "         ('1000101', True),\n",
    "         ('1001001', False)]\n",
    "\n",
    "print()\n",
    "print(\"L_2 = {w | w contains 101 as substring}\")\n",
    "run_tests(M, tests)"
   ]
  },
  {
   "cell_type": "markdown",
   "id": "95803ba18fc9bd8",
   "metadata": {
    "collapsed": false
   },
   "source": [
    "### COMPLETE THIS SECTION\n",
    "\n",
    "Now define your own DFA to recognize the language of all bitstrings that start and end with the same symbol here. \n",
    "\n",
    "$L_3 = \\{w \\: | \\: w \\text{ begins and ends with the same symbol}\\}$\n",
    "\n",
    "Replace the `None`s below to complete the definition"
   ]
  },
  {
   "cell_type": "code",
   "execution_count": 16,
   "id": "5c413d03b25ab5f7",
   "metadata": {
    "collapsed": false,
    "ExecuteTime": {
     "end_time": "2024-02-07T20:38:13.166940200Z",
     "start_time": "2024-02-07T20:38:13.103404800Z"
    }
   },
   "outputs": [],
   "source": [
    "Q = {'A', 'B', 'C', 'D', 'E'}\n",
    "Sigma = {'0', '1'}\n",
    "delta = {'A':{'0': 'B',\n",
    "              '1': 'D'},\n",
    "         'B':{'0': 'B',\n",
    "              '1': 'C'},\n",
    "         'C':{'0': 'B',\n",
    "              '1': 'C'},\n",
    "         'D':{'0': 'E',\n",
    "              '1': 'D'},\n",
    "         'E':{'0': 'E',\n",
    "              '1': 'D'}}\n",
    "q_0 = 'A'\n",
    "F = {'A', 'B', 'D'}\n",
    "M = Dfa(Q, Sigma, delta, q_0, F)   # instantiate the DFA\n",
    "T_3 = (Q, Sigma, delta, q_0, F)    # leave this line untouched! (reserved for grading)"
   ]
  },
  {
   "cell_type": "markdown",
   "id": "2506e28f4729f1d5",
   "metadata": {
    "collapsed": false
   },
   "source": [
    "#### Tests for DFA recognizing all bitstrings that begin and end with the same symbol\n",
    "\n",
    "Make sure the machine you define (above) passes all these tests!"
   ]
  },
  {
   "cell_type": "code",
   "execution_count": 17,
   "id": "bc4c23e6142b7b9d",
   "metadata": {
    "collapsed": false,
    "ExecuteTime": {
     "end_time": "2024-02-07T20:38:20.304128100Z",
     "start_time": "2024-02-07T20:38:20.178128200Z"
    }
   },
   "outputs": [
    {
     "name": "stdout",
     "output_type": "stream",
     "text": [
      "\n",
      "L_3 = {w | w begins and ends with the same symbol.}\n",
      "Reported: True. Correct! '' is in the language of M.\n",
      "Reported: True. Correct! '0' is in the language of M.\n",
      "Reported: True. Correct! '00' is in the language of M.\n",
      "Reported: False. Correct! '100' is not in the language of M.\n",
      "Reported: True. Correct! '101' is in the language of M.\n",
      "Reported: False. Correct! '01010101' is not in the language of M.\n",
      "Reported: False. Correct! '10' is not in the language of M.\n",
      "Reported: True. Correct! '1000101' is in the language of M.\n",
      "Reported: False. Correct! '0001001' is not in the language of M.\n",
      "Reported: True. Correct! '1' is in the language of M.\n",
      "Reported: True. Correct! '11' is in the language of M.\n"
     ]
    }
   ],
   "source": [
    "tests = [('', True),\n",
    "         ('0', True),\n",
    "         ('00', True),\n",
    "         ('100', False),\n",
    "         ('101', True),\n",
    "         ('01010101', False),\n",
    "         ('10', False),\n",
    "         ('1000101', True),\n",
    "         ('0001001', False),\n",
    "         ('1', True),\n",
    "         ('11', True)]\n",
    "\n",
    "print()\n",
    "print(\"L_3 = {w | w begins and ends with the same symbol.}\")\n",
    "run_tests(M, tests)"
   ]
  },
  {
   "cell_type": "markdown",
   "id": "46f0a054a7fdc215",
   "metadata": {
    "collapsed": false
   },
   "source": [
    "### COMPLETE THIS SECTION\n",
    "\n",
    "Now define your own DFA to recognize the language of all strings over the alphabet $\\Sigma = \\{\\text{\\texttt{a}}, \\text{\\texttt{b}}\\}$ such that its language is:\n",
    "\n",
    "$L_4 = \\{w \\: | \\: w \\text{ contains either \\texttt{ab} or \\texttt{ba} as a substring}\\}$\n",
    "\n",
    "Replace the `None`s below to complete the definition"
   ]
  },
  {
   "cell_type": "code",
   "execution_count": 18,
   "id": "65b27423-50fa-483f-a09c-5f6677b3321a",
   "metadata": {
    "collapsed": false,
    "ExecuteTime": {
     "end_time": "2024-02-07T20:50:15.341508100Z",
     "start_time": "2024-02-07T20:50:15.252687600Z"
    }
   },
   "outputs": [],
   "source": [
    "Q = {'A', 'B', 'C', 'D', 'E'}\n",
    "Sigma = {'a', 'b'}\n",
    "delta = {'A' : {'a' : 'B',\n",
    "                'b' : 'D'},\n",
    "         'B' : {'a' : 'B',\n",
    "                'b' : 'C'},\n",
    "         'C' : {'a' : 'C',\n",
    "                'b' : 'C'},\n",
    "         'D' : {'a' : 'E',\n",
    "                'b' : 'D'},\n",
    "         'E' : {'a' : 'E',\n",
    "                'b' : 'E'}}\n",
    "q_0 = 'A'\n",
    "F = {'C', 'E'}\n",
    "M = Dfa(Q, Sigma, delta, q_0, F)   # instantiate the DFA\n",
    "T_4 = (Q, Sigma, delta, q_0, F)    # leave this line untouched! (reserved for grading)"
   ]
  },
  {
   "cell_type": "markdown",
   "id": "7904a8e1-08a2-4907-9a19-fb6af60e6676",
   "metadata": {},
   "source": [
    "#### Tests\n",
    "\n",
    "Make sure the machine you define (above) passes all these tests!"
   ]
  },
  {
   "cell_type": "code",
   "execution_count": 19,
   "id": "c5198c93-dd41-40f3-961f-c000724063c9",
   "metadata": {
    "collapsed": false,
    "ExecuteTime": {
     "end_time": "2024-02-07T20:50:18.000247400Z",
     "start_time": "2024-02-07T20:50:17.930983400Z"
    }
   },
   "outputs": [
    {
     "name": "stdout",
     "output_type": "stream",
     "text": [
      "\n",
      "L_4 = {w | w contains ab or ba as substring.}\n",
      "Reported: False. Correct! '' is not in the language of M.\n",
      "Reported: False. Correct! 'a' is not in the language of M.\n",
      "Reported: False. Correct! 'b' is not in the language of M.\n",
      "Reported: False. Correct! 'aa' is not in the language of M.\n",
      "Reported: False. Correct! 'bb' is not in the language of M.\n",
      "Reported: True. Correct! 'ab' is in the language of M.\n",
      "Reported: True. Correct! 'ba' is in the language of M.\n",
      "Reported: True. Correct! 'aaab' is in the language of M.\n",
      "Reported: True. Correct! 'bbba' is in the language of M.\n"
     ]
    }
   ],
   "source": [
    "tests = [('', False),\n",
    "         ('a', False),\n",
    "         ('b', False),\n",
    "         ('aa', False),\n",
    "         ('bb', False),\n",
    "         ('ab', True),\n",
    "         ('ba', True),\n",
    "         ('aaab', True),\n",
    "         ('bbba', True)]\n",
    "\n",
    "print()\n",
    "print(\"L_4 = {w | w contains ab or ba as substring.}\")\n",
    "run_tests(M, tests)"
   ]
  },
  {
   "cell_type": "markdown",
   "id": "8aa8c46d7a486bd7",
   "metadata": {
    "collapsed": false
   },
   "source": [
    "### Addendum\n",
    "\n",
    "This is here for the curious, or those who want to deepen or test their understanding of our first proof of closure of regular languages under union.\n",
    "\n",
    "DFA to recognize $L_1 \\cup L_3$, where $L_1 = \\{w \\: | \\: w \\text{ contains an even number of \\texttt{0}s}\\}$ and $L_3 = \\{w \\: | \\: w \\text{ begins and ends with the same symbol}\\}$, over the binary alphabet (as above). This uses the technique applied by Sipser in his proof of Theorem 1.25 (The class of regular languages is closed under the union operation).  "
   ]
  },
  {
   "cell_type": "code",
   "execution_count": 20,
   "id": "bd7861fc09c0c377",
   "metadata": {
    "collapsed": false,
    "ExecuteTime": {
     "end_time": "2024-02-07T20:50:24.600958800Z",
     "start_time": "2024-02-07T20:50:24.486169600Z"
    }
   },
   "outputs": [
    {
     "name": "stdout",
     "output_type": "stream",
     "text": [
      "\n",
      "L_5 = L_1 U L_3 = {w | w begins and ends with the same symbol or has an even number of zeros.}\n",
      "Reported: True. Correct! '' is in the language of M.\n",
      "Reported: True. Correct! '0' is in the language of M.\n",
      "Reported: True. Correct! '00' is in the language of M.\n",
      "Reported: True. Correct! '100' is in the language of M.\n",
      "Reported: False. Correct! '1000' is not in the language of M.\n",
      "Reported: True. Correct! '101' is in the language of M.\n",
      "Reported: True. Correct! '01010101' is in the language of M.\n",
      "Reported: False. Correct! '101010' is not in the language of M.\n",
      "Reported: True. Correct! '1000101' is in the language of M.\n",
      "Reported: False. Correct! '0001001' is not in the language of M.\n",
      "Reported: True. Correct! '1' is in the language of M.\n",
      "Reported: True. Correct! '11' is in the language of M.\n",
      "Reported: False. Correct! '110' is not in the language of M.\n"
     ]
    }
   ],
   "source": [
    "Q = {'(A, C)', '(A, D)', '(A, E)', '(A, G)', '(A, H)',\n",
    "     '(B, C)', '(B, D)', '(B, E)', '(B, G)', '(B, H)'}\n",
    "Sigma = {'0', '1'}\n",
    "delta = {'(A, C)': {'0': '(B, D)',\n",
    "                    '1': '(A, G)'},\n",
    "         '(A, D)': {'0': '(B, D)',\n",
    "                    '1': '(A, E)'},\n",
    "         '(A, E)': {'0': '(B, D)',\n",
    "                    '1': '(A, E)'},\n",
    "         '(A, G)': {'0': '(B, H)',\n",
    "                    '1': '(A, G)'},\n",
    "         '(A, H)': {'0': '(B, H)',\n",
    "                    '1': '(A, G)'},\n",
    "         '(B, C)': {'0': '(A, D)',\n",
    "                    '1': '(B, G)'},\n",
    "         '(B, D)': {'0': '(A, D)',\n",
    "                    '1': '(B, E)'},\n",
    "         '(B, E)': {'0': '(A, D)',\n",
    "                    '1': '(B, E)'},\n",
    "         '(B, G)': {'0': '(A, H)',\n",
    "                    '1': '(B, G)'},\n",
    "         '(B, H)': {'0': '(A, H)',\n",
    "                    '1': '(B, G)'}}\n",
    "q_0 = '(A, C)'\n",
    "F = {'(A, C)', '(A, D)', '(A, E)', '(A, G)', '(A, H)', \n",
    "     '(B, C)', '(B, D)', '(B, G)'}\n",
    "M = Dfa(Q, Sigma, delta, q_0, F)\n",
    "\n",
    "tests = [('', True),          # in both languages\n",
    "         ('0', True),         # begins and ends with same symbol\n",
    "         ('00', True),        # in both languages\n",
    "         ('100', True),       # even number of zeros\n",
    "         ('1000', False),     # nope\n",
    "         ('101', True),       # begins and ends with same symbol\n",
    "         ('01010101', True),  # even number of zeros\n",
    "         ('101010', False),   # nope\n",
    "         ('1000101', True),   # in both languages\n",
    "         ('0001001', False),  # nope\n",
    "         ('1', True),         # in both languages\n",
    "         ('11', True),        # in both languages\n",
    "         ('110', False)]      # nope\n",
    "\n",
    "print()\n",
    "print(\"L_5 = L_1 U L_3 = {w | w begins and ends with the same symbol or has an even number of zeros.}\")\n",
    "run_tests(M, tests)\n"
   ]
  },
  {
   "cell_type": "code",
   "outputs": [],
   "source": [],
   "metadata": {
    "collapsed": false
   },
   "id": "25a8f2c48ad0082e"
  }
 ],
 "metadata": {
  "kernelspec": {
   "display_name": "Python 3 (ipykernel)",
   "language": "python",
   "name": "python3"
  },
  "language_info": {
   "codemirror_mode": {
    "name": "ipython",
    "version": 3
   },
   "file_extension": ".py",
   "mimetype": "text/x-python",
   "name": "python",
   "nbconvert_exporter": "python",
   "pygments_lexer": "ipython3",
   "version": "3.10.13"
  }
 },
 "nbformat": 4,
 "nbformat_minor": 5
}
